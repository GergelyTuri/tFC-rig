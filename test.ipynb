{
 "cells": [
  {
   "cell_type": "code",
   "execution_count": 27,
   "metadata": {},
   "outputs": [
    {
     "ename": "ModuleNotFoundError",
     "evalue": "No module named 'tfcrig'",
     "output_type": "error",
     "traceback": [
      "\u001b[1;31m---------------------------------------------------------------------------\u001b[0m",
      "\u001b[1;31mModuleNotFoundError\u001b[0m                       Traceback (most recent call last)",
      "\u001b[1;32m<ipython-input-27-b7e0cf19375b>\u001b[0m in \u001b[0;36m<cell line: 1>\u001b[1;34m()\u001b[0m\n\u001b[1;32m----> 1\u001b[1;33m \u001b[1;32mfrom\u001b[0m \u001b[0mAnalysis\u001b[0m\u001b[1;33m.\u001b[0m\u001b[0mtfcrig\u001b[0m\u001b[1;33m.\u001b[0m\u001b[0manalysis\u001b[0m \u001b[1;32mimport\u001b[0m \u001b[0mextract_features_from_session_data\u001b[0m\u001b[1;33m,\u001b[0m \u001b[0mget_mouse_ids_from_file_name\u001b[0m\u001b[1;33m,\u001b[0m \u001b[0mdatetime_to_session_id\u001b[0m\u001b[1;33m,\u001b[0m \u001b[0mget_datetime_from_file_path\u001b[0m\u001b[1;33m\u001b[0m\u001b[1;33m\u001b[0m\u001b[0m\n\u001b[0m\u001b[0;32m      2\u001b[0m \u001b[1;32mimport\u001b[0m \u001b[0mAnalysis\u001b[0m\u001b[1;33m.\u001b[0m\u001b[0mtfcrig\u001b[0m\u001b[1;33m\u001b[0m\u001b[1;33m\u001b[0m\u001b[0m\n\u001b[0;32m      3\u001b[0m \u001b[1;32mimport\u001b[0m \u001b[0mpandas\u001b[0m \u001b[1;32mas\u001b[0m \u001b[0mpd\u001b[0m\u001b[1;33m\u001b[0m\u001b[1;33m\u001b[0m\u001b[0m\n\u001b[0;32m      4\u001b[0m \u001b[1;33m\u001b[0m\u001b[0m\n\u001b[0;32m      5\u001b[0m \u001b[0mfull_file\u001b[0m \u001b[1;33m=\u001b[0m \u001b[1;34m'Software/Serial_read/data/m_1_2024-07-05_11-28-25.json'\u001b[0m\u001b[1;33m\u001b[0m\u001b[1;33m\u001b[0m\u001b[0m\n",
      "\u001b[1;32mc:\\Users\\Austin\\Documents\\Columbia\\Research\\tFC-rig\\Analysis\\tfcrig\\analysis.py\u001b[0m in \u001b[0;36m<module>\u001b[1;34m\u001b[0m\n\u001b[0;32m     13\u001b[0m \u001b[1;32mimport\u001b[0m \u001b[0mseaborn\u001b[0m \u001b[1;32mas\u001b[0m \u001b[0msns\u001b[0m\u001b[1;33m\u001b[0m\u001b[1;33m\u001b[0m\u001b[0m\n\u001b[0;32m     14\u001b[0m \u001b[1;33m\u001b[0m\u001b[0m\n\u001b[1;32m---> 15\u001b[1;33m \u001b[1;32mfrom\u001b[0m \u001b[0mtfcrig\u001b[0m\u001b[1;33m.\u001b[0m\u001b[0mfiles\u001b[0m \u001b[1;32mimport\u001b[0m \u001b[0mDATETIME_REGEX\u001b[0m\u001b[1;33m\u001b[0m\u001b[1;33m\u001b[0m\u001b[0m\n\u001b[0m\u001b[0;32m     16\u001b[0m \u001b[1;32mfrom\u001b[0m \u001b[0mtfcrig\u001b[0m\u001b[1;33m.\u001b[0m\u001b[0mnotebook\u001b[0m \u001b[1;32mimport\u001b[0m \u001b[0mbuiltin_print\u001b[0m\u001b[1;33m\u001b[0m\u001b[1;33m\u001b[0m\u001b[0m\n\u001b[0;32m     17\u001b[0m \u001b[1;33m\u001b[0m\u001b[0m\n",
      "\u001b[1;31mModuleNotFoundError\u001b[0m: No module named 'tfcrig'"
     ]
    }
   ],
   "source": [
    "from Analysis.tfcrig.analysis import extract_features_from_session_data, get_mouse_ids_from_file_name, datetime_to_session_id, get_datetime_from_file_path\n",
    "import Analysis.tfcrig\n",
    "import pandas as pd\n",
    "\n",
    "full_file = 'Software/Serial_read/data/m_1_2024-07-05_11-28-25.json'\n",
    "file_name = full_file.split(\"/\")[-1]\n",
    "mouse_ids = get_mouse_ids_from_file_name(file_name)\n",
    "\n",
    "for mouse_id in mouse_ids:\n",
    "    session_id = datetime_to_session_id(get_datetime_from_file_path(file_name))\n",
    "    data = pd.read_json(full_file)['data'][mouse_id]\n",
    "    # data\n",
    "\n",
    "    df = extract_features_from_session_data(\n",
    "                raw_data=data,\n",
    "                mouse_id=mouse_id,\n",
    "                session_id=session_id,\n",
    "                file_name=file_name,\n",
    "                print_bad_data_blobs=False,\n",
    "            )"
   ]
  },
  {
   "cell_type": "code",
   "execution_count": 56,
   "metadata": {},
   "outputs": [
    {
     "data": {
      "image/png": "[encoded data removed]",
      "text/plain": [
       "<Figure size 720x360 with 1 Axes>"
      ]
     },
     "metadata": {
      "needs_background": "light"
     },
     "output_type": "display_data"
    }
   ],
   "source": [
    "import matplotlib.pyplot as plt\n",
    "import pandas as pd\n",
    "\n",
    "full_file = 'Software\\Serial_read\\data\\m_23_2024-07-12_20-15-49.json'\n",
    "mouse_id = 'm_23'\n",
    "data = pd.read_json(full_file)['data'][mouse_id]\n",
    "df = pd.DataFrame(data)\n",
    "df['absolute_time'] = pd.to_datetime(df['absolute_time'], format='%Y-%m-%d_%H-%M-%S.%f')\n",
    "df['elapsed_time'] = (df['absolute_time'] - df['absolute_time'].min()).dt.total_seconds().astype('int')\n",
    "all_times = pd.date_range(df['absolute_time'].min(), df['absolute_time'].max(), freq='S')\n",
    "all_df = pd.DataFrame(index=all_times)\n",
    "# Merge with original data to include all timestamps and licks\n",
    "merged_df = pd.merge_asof(all_df, df[['absolute_time', 'elapsed_time', 'message']], left_index=True, right_on='absolute_time', direction='nearest')\n",
    "\n",
    "merged_df['lick'] = merged_df['message'].apply(lambda x: 'Lick' in x)\n",
    "merged_df.set_index(pd.to_timedelta(merged_df['elapsed_time'], unit='s'), inplace=True)\n",
    "lick_rate = merged_df['lick'].resample('S').sum().fillna(0)\n",
    "\n",
    "\n",
    "# df['lick'] = df['message'].apply(lambda x: 'Lick' in x)\n",
    "# lick_df = df[df['lick']]\n",
    "\n",
    "# lick_df.set_index(pd.to_timedelta(lick_df['elapsed_time'], unit='s'), inplace=True)\n",
    "# lick_df\n",
    "\n",
    "# lick_rate = lick_df['lick'].resample('S').sum()\n",
    "\n",
    "# lick_rate\n",
    "\n",
    "plt.figure(figsize=(10, 5))\n",
    "plt.plot(lick_rate.index, lick_rate.values, marker='.', linestyle='-')\n",
    "plt.xlabel('Time (s)')\n",
    "plt.ylabel('Lick Rate (licks/s)')\n",
    "plt.title('Lick Rate Over Time')\n",
    "plt.grid(True)\n"
   ]
  },
  {
   "cell_type": "code",
   "execution_count": 57,
   "metadata": {},
   "outputs": [
    {
     "data": {
      "text/plain": [
       "elapsed_time\n",
       "0 days 00:00:00    0\n",
       "0 days 00:00:01    0\n",
       "0 days 00:00:02    0\n",
       "0 days 00:00:03    0\n",
       "0 days 00:00:04    0\n",
       "0 days 00:00:05    0\n",
       "0 days 00:00:06    0\n",
       "0 days 00:00:07    0\n",
       "0 days 00:00:08    0\n",
       "0 days 00:00:09    0\n",
       "0 days 00:00:10    0\n",
       "0 days 00:00:11    0\n",
       "0 days 00:00:12    5\n",
       "0 days 00:00:13    0\n",
       "0 days 00:00:14    2\n",
       "0 days 00:00:15    0\n",
       "0 days 00:00:16    0\n",
       "0 days 00:00:17    0\n",
       "0 days 00:00:18    0\n",
       "Freq: S, Name: lick, dtype: int64"
      ]
     },
     "execution_count": 57,
     "metadata": {},
     "output_type": "execute_result"
    }
   ],
   "source": [
    "lick_rate"
   ]
  },
  {
   "cell_type": "code",
   "execution_count": 3,
   "metadata": {},
   "outputs": [],
   "source": [
    "import matplotlib.pyplot as plt\n",
    "from matplotlib.figure import Figure\n",
    "from matplotlib.backends.backend_qt5agg import FigureCanvasQTAgg as FigureCanvas\n",
    "\n",
    "# Create a simple plot with 2 dots\n",
    "figure = Figure()\n",
    "canvas = FigureCanvas(figure)\n",
    "canvas.setFixedSize(750, 400)\n",
    "ax = figure.add_subplot(111)\n",
    "ax.plot([1, 2], [3, 4], 'o')  # Two points at (1,3) and (2,4)\n",
    "\n",
    "# Set labels and title\n",
    "ax.set_xlabel(\"X-axis\")\n",
    "ax.set_ylabel(\"Y-axis\")\n",
    "ax.set_title(\"Simple Plot with 2 Dots\")\n",
    "ax.grid(True)\n",
    "ax.set_xlabel(\"Time (s)\")\n",
    "ax.set_ylabel(\"Lick rate (licks/s)\")\n",
    "ax.set_title(\"Licks Over Time\")\n",
    "\n",
    "# Save the figure\n",
    "figure.savefig(\"plot3.png\")\n"
   ]
  }
 ],
 "metadata": {
  "kernelspec": {
   "display_name": "base",
   "language": "python",
   "name": "python3"
  },
  "language_info": {
   "codemirror_mode": {
    "name": "ipython",
    "version": 3
   },
   "file_extension": ".py",
   "mimetype": "text/x-python",
   "name": "python",
   "nbconvert_exporter": "python",
   "pygments_lexer": "ipython3",
   "version": "3.9.12"
  }
 },
 "nbformat": 4,
 "nbformat_minor": 2
}
