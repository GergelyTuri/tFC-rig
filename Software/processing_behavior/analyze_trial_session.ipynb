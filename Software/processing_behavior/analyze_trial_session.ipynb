{
 "cells": [
  {
   "cell_type": "markdown",
   "metadata": {},
   "source": [
    "# Notebook for analysing the trial session data"
   ]
  },
  {
   "cell_type": "code",
   "execution_count": 1,
   "metadata": {},
   "outputs": [],
   "source": [
    "import pandas as pd\n",
    "import processing as pr"
   ]
  },
  {
   "cell_type": "code",
   "execution_count": 2,
   "metadata": {},
   "outputs": [],
   "source": [
    "session = pr.Processing(\"session.json\")\n",
    "trials = session.trials\n",
    "header = session.header\n",
    "data = session.session_data"
   ]
  },
  {
   "cell_type": "code",
   "execution_count": 3,
   "metadata": {},
   "outputs": [
    {
     "data": {
      "text/plain": [
       "['Trial_1', 'Trial_2', 'Trial_3', 'Trial_4', 'Trial_5', 'Trial_6']"
      ]
     },
     "execution_count": 3,
     "metadata": {},
     "output_type": "execute_result"
    }
   ],
   "source": [
    "trials"
   ]
  },
  {
   "cell_type": "code",
   "execution_count": 4,
   "metadata": {},
   "outputs": [
    {
     "data": {
      "text/plain": [
       "{'event': 'Lick',\n",
       " 'frequency': 1.8399632007359854,\n",
       " 'count': 92,\n",
       " 'duration': 50.001,\n",
       " 'trial_type': '0'}"
      ]
     },
     "execution_count": 4,
     "metadata": {},
     "output_type": "execute_result"
    }
   ],
   "source": [
    "lick_rate = session.rate_calulator(\"Trial_1\", \"Lick\")\n",
    "lick_rate"
   ]
  },
  {
   "cell_type": "code",
   "execution_count": 5,
   "metadata": {},
   "outputs": [
    {
     "data": {
      "text/plain": [
       "{'event': 'Water on',\n",
       " 'frequency': 0.4799904001919962,\n",
       " 'count': 24,\n",
       " 'duration': 50.001,\n",
       " 'trial_type': '0'}"
      ]
     },
     "execution_count": 5,
     "metadata": {},
     "output_type": "execute_result"
    }
   ],
   "source": [
    "reward_rate = session.rate_calulator(\"Trial_1\", \"Water on\")\n",
    "reward_rate"
   ]
  },
  {
   "cell_type": "code",
   "execution_count": 8,
   "metadata": {},
   "outputs": [],
   "source": [
    "results = []\n",
    "\n",
    "for trial in trials:\n",
    "    licks = session.rate_calulator(trial, \"Lick\")\n",
    "    reward_rate = session.rate_calulator(trial, \"Water on\")\n",
    "\n",
    "    combined_results = {f\"lick_{k}\": v for k, v in licks.items()}\n",
    "    combined_results.update({f\"water_{k}\": v for k, v in reward_rate.items()})\n",
    "    combined_results[\"Trial\"] = trial\n",
    "\n",
    "    results.append(combined_results)\n",
    "\n",
    "result_df = pd.DataFrame(results)\n",
    "result_df.set_index(\"Trial\", inplace=True)"
   ]
  },
  {
   "cell_type": "code",
   "execution_count": 9,
   "metadata": {},
   "outputs": [
    {
     "data": {
      "text/html": [
       "<div>\n",
       "<style scoped>\n",
       "    .dataframe tbody tr th:only-of-type {\n",
       "        vertical-align: middle;\n",
       "    }\n",
       "\n",
       "    .dataframe tbody tr th {\n",
       "        vertical-align: top;\n",
       "    }\n",
       "\n",
       "    .dataframe thead th {\n",
       "        text-align: right;\n",
       "    }\n",
       "</style>\n",
       "<table border=\"1\" class=\"dataframe\">\n",
       "  <thead>\n",
       "    <tr style=\"text-align: right;\">\n",
       "      <th></th>\n",
       "      <th>lick_event</th>\n",
       "      <th>lick_frequency</th>\n",
       "      <th>lick_count</th>\n",
       "      <th>lick_duration</th>\n",
       "      <th>lick_trial_type</th>\n",
       "      <th>water_event</th>\n",
       "      <th>water_frequency</th>\n",
       "      <th>water_count</th>\n",
       "      <th>water_duration</th>\n",
       "      <th>water_trial_type</th>\n",
       "    </tr>\n",
       "    <tr>\n",
       "      <th>Trial</th>\n",
       "      <th></th>\n",
       "      <th></th>\n",
       "      <th></th>\n",
       "      <th></th>\n",
       "      <th></th>\n",
       "      <th></th>\n",
       "      <th></th>\n",
       "      <th></th>\n",
       "      <th></th>\n",
       "      <th></th>\n",
       "    </tr>\n",
       "  </thead>\n",
       "  <tbody>\n",
       "    <tr>\n",
       "      <th>Trial_1</th>\n",
       "      <td>Lick</td>\n",
       "      <td>1.839963</td>\n",
       "      <td>92</td>\n",
       "      <td>50.001</td>\n",
       "      <td>0</td>\n",
       "      <td>Water on</td>\n",
       "      <td>0.479990</td>\n",
       "      <td>24</td>\n",
       "      <td>50.001</td>\n",
       "      <td>0</td>\n",
       "    </tr>\n",
       "    <tr>\n",
       "      <th>Trial_2</th>\n",
       "      <td>Lick</td>\n",
       "      <td>0.859983</td>\n",
       "      <td>43</td>\n",
       "      <td>50.001</td>\n",
       "      <td>0</td>\n",
       "      <td>Water on</td>\n",
       "      <td>0.179996</td>\n",
       "      <td>9</td>\n",
       "      <td>50.001</td>\n",
       "      <td>0</td>\n",
       "    </tr>\n",
       "    <tr>\n",
       "      <th>Trial_3</th>\n",
       "      <td>Lick</td>\n",
       "      <td>0.119998</td>\n",
       "      <td>6</td>\n",
       "      <td>50.001</td>\n",
       "      <td>1</td>\n",
       "      <td>Water on</td>\n",
       "      <td>0.020000</td>\n",
       "      <td>1</td>\n",
       "      <td>50.001</td>\n",
       "      <td>1</td>\n",
       "    </tr>\n",
       "    <tr>\n",
       "      <th>Trial_4</th>\n",
       "      <td>Lick</td>\n",
       "      <td>0.299994</td>\n",
       "      <td>15</td>\n",
       "      <td>50.001</td>\n",
       "      <td>1</td>\n",
       "      <td>Water on</td>\n",
       "      <td>0.059999</td>\n",
       "      <td>3</td>\n",
       "      <td>50.001</td>\n",
       "      <td>1</td>\n",
       "    </tr>\n",
       "    <tr>\n",
       "      <th>Trial_5</th>\n",
       "      <td>Lick</td>\n",
       "      <td>0.099998</td>\n",
       "      <td>5</td>\n",
       "      <td>50.001</td>\n",
       "      <td>1</td>\n",
       "      <td>Water on</td>\n",
       "      <td>0.020000</td>\n",
       "      <td>1</td>\n",
       "      <td>50.001</td>\n",
       "      <td>1</td>\n",
       "    </tr>\n",
       "    <tr>\n",
       "      <th>Trial_6</th>\n",
       "      <td>Lick</td>\n",
       "      <td>0.199996</td>\n",
       "      <td>10</td>\n",
       "      <td>50.001</td>\n",
       "      <td>0</td>\n",
       "      <td>Water on</td>\n",
       "      <td>0.020000</td>\n",
       "      <td>1</td>\n",
       "      <td>50.001</td>\n",
       "      <td>0</td>\n",
       "    </tr>\n",
       "  </tbody>\n",
       "</table>\n",
       "</div>"
      ],
      "text/plain": [
       "        lick_event  lick_frequency  lick_count  lick_duration lick_trial_type  \\\n",
       "Trial                                                                           \n",
       "Trial_1       Lick        1.839963          92         50.001               0   \n",
       "Trial_2       Lick        0.859983          43         50.001               0   \n",
       "Trial_3       Lick        0.119998           6         50.001               1   \n",
       "Trial_4       Lick        0.299994          15         50.001               1   \n",
       "Trial_5       Lick        0.099998           5         50.001               1   \n",
       "Trial_6       Lick        0.199996          10         50.001               0   \n",
       "\n",
       "        water_event  water_frequency  water_count  water_duration  \\\n",
       "Trial                                                               \n",
       "Trial_1    Water on         0.479990           24          50.001   \n",
       "Trial_2    Water on         0.179996            9          50.001   \n",
       "Trial_3    Water on         0.020000            1          50.001   \n",
       "Trial_4    Water on         0.059999            3          50.001   \n",
       "Trial_5    Water on         0.020000            1          50.001   \n",
       "Trial_6    Water on         0.020000            1          50.001   \n",
       "\n",
       "        water_trial_type  \n",
       "Trial                     \n",
       "Trial_1                0  \n",
       "Trial_2                0  \n",
       "Trial_3                1  \n",
       "Trial_4                1  \n",
       "Trial_5                1  \n",
       "Trial_6                0  "
      ]
     },
     "execution_count": 9,
     "metadata": {},
     "output_type": "execute_result"
    }
   ],
   "source": [
    "result_df"
   ]
  },
  {
   "cell_type": "code",
   "execution_count": null,
   "metadata": {},
   "outputs": [],
   "source": []
  }
 ],
 "metadata": {
  "kernelspec": {
   "display_name": "Python 3",
   "language": "python",
   "name": "python3"
  },
  "language_info": {
   "codemirror_mode": {
    "name": "ipython",
    "version": 3
   },
   "file_extension": ".py",
   "mimetype": "text/x-python",
   "name": "python",
   "nbconvert_exporter": "python",
   "pygments_lexer": "ipython3",
   "version": "3.11.5"
  }
 },
 "nbformat": 4,
 "nbformat_minor": 2
}
