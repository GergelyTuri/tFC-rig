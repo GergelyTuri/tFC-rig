{
  "nbformat": 4,
  "nbformat_minor": 0,
  "metadata": {
    "colab": {
      "provenance": [],
      "authorship_tag": "ABX9TyOox5xLJRJE940HD0+FYFaD",
      "include_colab_link": true
    },
    "kernelspec": {
      "name": "python3",
      "display_name": "Python 3"
    },
    "language_info": {
      "name": "python"
    }
  },
  "cells": [
    {
      "cell_type": "markdown",
      "metadata": {
        "id": "view-in-github",
        "colab_type": "text"
      },
      "source": [
        "<a href=\"https://colab.research.google.com/github/GergelyTuri/tFC-rig/blob/main/Software/processing_behavior/Colab_trace_fear_analysis.ipynb\" target=\"_parent\"><img src=\"https://colab.research.google.com/assets/colab-badge.svg\" alt=\"Open In Colab\"/></a>"
      ]
    },
    {
      "cell_type": "markdown",
      "source": [
        "# Colab notebook for analyzing head fixed trace fear conditioning data\n",
        "* 11/28/2023 setup"
      ],
      "metadata": {
        "id": "21uY0tfkod1u"
      }
    },
    {
      "cell_type": "code",
      "execution_count": 1,
      "metadata": {
        "colab": {
          "base_uri": "https://localhost:8080/"
        },
        "id": "6awH7u4FTXoS",
        "outputId": "a4fafd8f-2121-4cae-991f-ef38661d0346"
      },
      "outputs": [
        {
          "output_type": "stream",
          "name": "stdout",
          "text": [
            "Cloning into 'tFC-rig'...\n",
            "remote: Enumerating objects: 535, done.\u001b[K\n",
            "remote: Counting objects: 100% (249/249), done.\u001b[K\n",
            "remote: Compressing objects: 100% (166/166), done.\u001b[K\n",
            "remote: Total 535 (delta 143), reused 177 (delta 80), pack-reused 286\u001b[K\n",
            "Receiving objects: 100% (535/535), 20.74 MiB | 33.65 MiB/s, done.\n",
            "Resolving deltas: 100% (281/281), done.\n"
          ]
        }
      ],
      "source": [
        "!git clone https://github.com/GergelyTuri/tFC-rig.git"
      ]
    },
    {
      "cell_type": "code",
      "source": [
        "# %cd /content/tFC-rig/\n",
        "# !git pull"
      ],
      "metadata": {
        "id": "BwEgOvZ-4zYR"
      },
      "execution_count": null,
      "outputs": []
    },
    {
      "cell_type": "code",
      "source": [
        "import sys\n",
        "from os.path import join\n",
        "import pandas as pd\n",
        "import subprocess\n",
        "sys.path.append('/content/tFC-rig/Software/processing_behavior/')\n",
        "import processing as pr"
      ],
      "metadata": {
        "id": "bD3-0yd7pkrS"
      },
      "execution_count": 14,
      "outputs": []
    },
    {
      "cell_type": "code",
      "source": [
        "from google.colab import drive\n",
        "drive.mount('/gdrive')"
      ],
      "metadata": {
        "colab": {
          "base_uri": "https://localhost:8080/"
        },
        "id": "EsfeKHIhqfye",
        "outputId": "2594b0ac-852a-43ed-aaac-da6676633551"
      },
      "execution_count": 7,
      "outputs": [
        {
          "output_type": "stream",
          "name": "stdout",
          "text": [
            "Mounted at /gdrive\n"
          ]
        }
      ]
    },
    {
      "cell_type": "markdown",
      "source": [
        "## Setting up a file to be processed"
      ],
      "metadata": {
        "id": "LkiAEbI05N_Q"
      }
    },
    {
      "cell_type": "code",
      "source": [
        "recordings = '/gdrive/Shareddrives/Turi_lab/Data/aging_project/'\n",
        "json_file = '74_5/2023_11_22/Session 1/74-5_2023-11-22_10-46-46.json'\n",
        "file_path = join(recordings, json_file)"
      ],
      "metadata": {
        "id": "XwadjuHUpaL9"
      },
      "execution_count": 2,
      "outputs": []
    },
    {
      "cell_type": "markdown",
      "source": [
        "## Parsing the raw recording file"
      ],
      "metadata": {
        "id": "j_D-2gY85Ifo"
      }
    },
    {
      "cell_type": "code",
      "source": [
        "command = f'python /content/tFC-rig/Software/processing_behavior/process_json.py -f \"{file_path}\"'\n",
        "subprocess.run(command, shell=True)"
      ],
      "metadata": {
        "colab": {
          "base_uri": "https://localhost:8080/"
        },
        "id": "0g24Z5fqzg9k",
        "outputId": "ea2d7bd4-bd94-43f2-fde1-5ff611b6de0b"
      },
      "execution_count": 3,
      "outputs": [
        {
          "output_type": "execute_result",
          "data": {
            "text/plain": [
              "CompletedProcess(args='python /content/tFC-rig/Software/processing_behavior/process_json.py -f \"/gdrive/Shareddrives/Turi_lab/Data/aging_project/74_5/2023_11_22/Session 1/74-5_2023-11-22_10-46-46.json\"', returncode=0)"
            ]
          },
          "metadata": {},
          "execution_count": 3
        }
      ]
    },
    {
      "cell_type": "markdown",
      "source": [
        "## Analyzing that one file."
      ],
      "metadata": {
        "id": "pspuwmqs5adh"
      }
    },
    {
      "cell_type": "code",
      "source": [
        "processed_file = file_path.split(\".\")[0] + \"_processed.json\""
      ],
      "metadata": {
        "colab": {
          "base_uri": "https://localhost:8080/",
          "height": 53
        },
        "id": "54DM9sHH5hAO",
        "outputId": "ba43b179-3085-4f1b-c683-1ced74bdb10e"
      },
      "execution_count": 4,
      "outputs": [
        {
          "output_type": "execute_result",
          "data": {
            "text/plain": [
              "'/gdrive/Shareddrives/Turi_lab/Data/aging_project/74_5/2023_11_22/Session 1/74-5_2023-11-22_10-46-46_processed.json'"
            ],
            "application/vnd.google.colaboratory.intrinsic+json": {
              "type": "string"
            }
          },
          "metadata": {},
          "execution_count": 4
        }
      ]
    },
    {
      "cell_type": "code",
      "source": [
        "session = pr.Processing(processed_file)\n",
        "trials = session.trials\n",
        "header = session.header\n",
        "data = session.session_data"
      ],
      "metadata": {
        "id": "Yl2gM-gNrO7C"
      },
      "execution_count": 5,
      "outputs": []
    },
    {
      "cell_type": "code",
      "source": [
        "trial_df, trial_type = session.prepropcess_trial(\"Trial_1\")\n",
        "trial_df.head()"
      ],
      "metadata": {
        "colab": {
          "base_uri": "https://localhost:8080/",
          "height": 344
        },
        "id": "YosWtxakrido",
        "outputId": "b62c74d8-ef3e-4ebc-e498-5c1fd51a62e6"
      },
      "execution_count": 7,
      "outputs": [
        {
          "output_type": "execute_result",
          "data": {
            "text/plain": [
              "                         session_millis  trial_millis  \\\n",
              "time                                                    \n",
              "1970-01-01 00:00:00.000           40360             0   \n",
              "1970-01-01 00:00:00.000           40393             0   \n",
              "1970-01-01 00:00:00.000           40435             0   \n",
              "1970-01-01 00:00:00.000           40483             0   \n",
              "1970-01-01 00:00:07.537           48051          7537   \n",
              "\n",
              "                                                 message  \\\n",
              "time                                                       \n",
              "1970-01-01 00:00:00.000                Trial has started   \n",
              "1970-01-01 00:00:00.000        Printing trial parameters   \n",
              "1970-01-01 00:00:00.000  randomInterTrialInterval: 76937   \n",
              "1970-01-01 00:00:00.000              currentTrialType: 0   \n",
              "1970-01-01 00:00:07.537                             Lick   \n",
              "\n",
              "                                      absolute_time  negative_signal_start  \\\n",
              "time                                                                         \n",
              "1970-01-01 00:00:00.000  2023-11-22_10-47-30.946288                  False   \n",
              "1970-01-01 00:00:00.000  2023-11-22_10-47-31.000578                  False   \n",
              "1970-01-01 00:00:00.000  2023-11-22_10-47-31.055576                  False   \n",
              "1970-01-01 00:00:00.000  2023-11-22_10-47-31.107388                  False   \n",
              "1970-01-01 00:00:07.537  2023-11-22_10-47-37.964434                  False   \n",
              "\n",
              "                         negative_signal_end  positive_signal_start  \\\n",
              "time                                                                  \n",
              "1970-01-01 00:00:00.000                False                  False   \n",
              "1970-01-01 00:00:00.000                False                  False   \n",
              "1970-01-01 00:00:00.000                False                  False   \n",
              "1970-01-01 00:00:00.000                False                  False   \n",
              "1970-01-01 00:00:07.537                False                  False   \n",
              "\n",
              "                         positive_signal_end  negative_signal  airpuff_start  \\\n",
              "time                                                                           \n",
              "1970-01-01 00:00:00.000                False            False          False   \n",
              "1970-01-01 00:00:00.000                False            False          False   \n",
              "1970-01-01 00:00:00.000                False            False          False   \n",
              "1970-01-01 00:00:00.000                False            False          False   \n",
              "1970-01-01 00:00:07.537                False            False          False   \n",
              "\n",
              "                         airpuff_end   lick  water  \n",
              "time                                                \n",
              "1970-01-01 00:00:00.000        False  False  False  \n",
              "1970-01-01 00:00:00.000        False  False  False  \n",
              "1970-01-01 00:00:00.000        False  False  False  \n",
              "1970-01-01 00:00:00.000        False  False  False  \n",
              "1970-01-01 00:00:07.537        False   True  False  "
            ],
            "text/html": [
              "\n",
              "  <div id=\"df-72dbc2ee-e290-484a-9f0d-b219ab5e5019\" class=\"colab-df-container\">\n",
              "    <div>\n",
              "<style scoped>\n",
              "    .dataframe tbody tr th:only-of-type {\n",
              "        vertical-align: middle;\n",
              "    }\n",
              "\n",
              "    .dataframe tbody tr th {\n",
              "        vertical-align: top;\n",
              "    }\n",
              "\n",
              "    .dataframe thead th {\n",
              "        text-align: right;\n",
              "    }\n",
              "</style>\n",
              "<table border=\"1\" class=\"dataframe\">\n",
              "  <thead>\n",
              "    <tr style=\"text-align: right;\">\n",
              "      <th></th>\n",
              "      <th>session_millis</th>\n",
              "      <th>trial_millis</th>\n",
              "      <th>message</th>\n",
              "      <th>absolute_time</th>\n",
              "      <th>negative_signal_start</th>\n",
              "      <th>negative_signal_end</th>\n",
              "      <th>positive_signal_start</th>\n",
              "      <th>positive_signal_end</th>\n",
              "      <th>negative_signal</th>\n",
              "      <th>airpuff_start</th>\n",
              "      <th>airpuff_end</th>\n",
              "      <th>lick</th>\n",
              "      <th>water</th>\n",
              "    </tr>\n",
              "    <tr>\n",
              "      <th>time</th>\n",
              "      <th></th>\n",
              "      <th></th>\n",
              "      <th></th>\n",
              "      <th></th>\n",
              "      <th></th>\n",
              "      <th></th>\n",
              "      <th></th>\n",
              "      <th></th>\n",
              "      <th></th>\n",
              "      <th></th>\n",
              "      <th></th>\n",
              "      <th></th>\n",
              "      <th></th>\n",
              "    </tr>\n",
              "  </thead>\n",
              "  <tbody>\n",
              "    <tr>\n",
              "      <th>1970-01-01 00:00:00.000</th>\n",
              "      <td>40360</td>\n",
              "      <td>0</td>\n",
              "      <td>Trial has started</td>\n",
              "      <td>2023-11-22_10-47-30.946288</td>\n",
              "      <td>False</td>\n",
              "      <td>False</td>\n",
              "      <td>False</td>\n",
              "      <td>False</td>\n",
              "      <td>False</td>\n",
              "      <td>False</td>\n",
              "      <td>False</td>\n",
              "      <td>False</td>\n",
              "      <td>False</td>\n",
              "    </tr>\n",
              "    <tr>\n",
              "      <th>1970-01-01 00:00:00.000</th>\n",
              "      <td>40393</td>\n",
              "      <td>0</td>\n",
              "      <td>Printing trial parameters</td>\n",
              "      <td>2023-11-22_10-47-31.000578</td>\n",
              "      <td>False</td>\n",
              "      <td>False</td>\n",
              "      <td>False</td>\n",
              "      <td>False</td>\n",
              "      <td>False</td>\n",
              "      <td>False</td>\n",
              "      <td>False</td>\n",
              "      <td>False</td>\n",
              "      <td>False</td>\n",
              "    </tr>\n",
              "    <tr>\n",
              "      <th>1970-01-01 00:00:00.000</th>\n",
              "      <td>40435</td>\n",
              "      <td>0</td>\n",
              "      <td>randomInterTrialInterval: 76937</td>\n",
              "      <td>2023-11-22_10-47-31.055576</td>\n",
              "      <td>False</td>\n",
              "      <td>False</td>\n",
              "      <td>False</td>\n",
              "      <td>False</td>\n",
              "      <td>False</td>\n",
              "      <td>False</td>\n",
              "      <td>False</td>\n",
              "      <td>False</td>\n",
              "      <td>False</td>\n",
              "    </tr>\n",
              "    <tr>\n",
              "      <th>1970-01-01 00:00:00.000</th>\n",
              "      <td>40483</td>\n",
              "      <td>0</td>\n",
              "      <td>currentTrialType: 0</td>\n",
              "      <td>2023-11-22_10-47-31.107388</td>\n",
              "      <td>False</td>\n",
              "      <td>False</td>\n",
              "      <td>False</td>\n",
              "      <td>False</td>\n",
              "      <td>False</td>\n",
              "      <td>False</td>\n",
              "      <td>False</td>\n",
              "      <td>False</td>\n",
              "      <td>False</td>\n",
              "    </tr>\n",
              "    <tr>\n",
              "      <th>1970-01-01 00:00:07.537</th>\n",
              "      <td>48051</td>\n",
              "      <td>7537</td>\n",
              "      <td>Lick</td>\n",
              "      <td>2023-11-22_10-47-37.964434</td>\n",
              "      <td>False</td>\n",
              "      <td>False</td>\n",
              "      <td>False</td>\n",
              "      <td>False</td>\n",
              "      <td>False</td>\n",
              "      <td>False</td>\n",
              "      <td>False</td>\n",
              "      <td>True</td>\n",
              "      <td>False</td>\n",
              "    </tr>\n",
              "  </tbody>\n",
              "</table>\n",
              "</div>\n",
              "    <div class=\"colab-df-buttons\">\n",
              "\n",
              "  <div class=\"colab-df-container\">\n",
              "    <button class=\"colab-df-convert\" onclick=\"convertToInteractive('df-72dbc2ee-e290-484a-9f0d-b219ab5e5019')\"\n",
              "            title=\"Convert this dataframe to an interactive table.\"\n",
              "            style=\"display:none;\">\n",
              "\n",
              "  <svg xmlns=\"http://www.w3.org/2000/svg\" height=\"24px\" viewBox=\"0 -960 960 960\">\n",
              "    <path d=\"M120-120v-720h720v720H120Zm60-500h600v-160H180v160Zm220 220h160v-160H400v160Zm0 220h160v-160H400v160ZM180-400h160v-160H180v160Zm440 0h160v-160H620v160ZM180-180h160v-160H180v160Zm440 0h160v-160H620v160Z\"/>\n",
              "  </svg>\n",
              "    </button>\n",
              "\n",
              "  <style>\n",
              "    .colab-df-container {\n",
              "      display:flex;\n",
              "      gap: 12px;\n",
              "    }\n",
              "\n",
              "    .colab-df-convert {\n",
              "      background-color: #E8F0FE;\n",
              "      border: none;\n",
              "      border-radius: 50%;\n",
              "      cursor: pointer;\n",
              "      display: none;\n",
              "      fill: #1967D2;\n",
              "      height: 32px;\n",
              "      padding: 0 0 0 0;\n",
              "      width: 32px;\n",
              "    }\n",
              "\n",
              "    .colab-df-convert:hover {\n",
              "      background-color: #E2EBFA;\n",
              "      box-shadow: 0px 1px 2px rgba(60, 64, 67, 0.3), 0px 1px 3px 1px rgba(60, 64, 67, 0.15);\n",
              "      fill: #174EA6;\n",
              "    }\n",
              "\n",
              "    .colab-df-buttons div {\n",
              "      margin-bottom: 4px;\n",
              "    }\n",
              "\n",
              "    [theme=dark] .colab-df-convert {\n",
              "      background-color: #3B4455;\n",
              "      fill: #D2E3FC;\n",
              "    }\n",
              "\n",
              "    [theme=dark] .colab-df-convert:hover {\n",
              "      background-color: #434B5C;\n",
              "      box-shadow: 0px 1px 3px 1px rgba(0, 0, 0, 0.15);\n",
              "      filter: drop-shadow(0px 1px 2px rgba(0, 0, 0, 0.3));\n",
              "      fill: #FFFFFF;\n",
              "    }\n",
              "  </style>\n",
              "\n",
              "    <script>\n",
              "      const buttonEl =\n",
              "        document.querySelector('#df-72dbc2ee-e290-484a-9f0d-b219ab5e5019 button.colab-df-convert');\n",
              "      buttonEl.style.display =\n",
              "        google.colab.kernel.accessAllowed ? 'block' : 'none';\n",
              "\n",
              "      async function convertToInteractive(key) {\n",
              "        const element = document.querySelector('#df-72dbc2ee-e290-484a-9f0d-b219ab5e5019');\n",
              "        const dataTable =\n",
              "          await google.colab.kernel.invokeFunction('convertToInteractive',\n",
              "                                                    [key], {});\n",
              "        if (!dataTable) return;\n",
              "\n",
              "        const docLinkHtml = 'Like what you see? Visit the ' +\n",
              "          '<a target=\"_blank\" href=https://colab.research.google.com/notebooks/data_table.ipynb>data table notebook</a>'\n",
              "          + ' to learn more about interactive tables.';\n",
              "        element.innerHTML = '';\n",
              "        dataTable['output_type'] = 'display_data';\n",
              "        await google.colab.output.renderOutput(dataTable, element);\n",
              "        const docLink = document.createElement('div');\n",
              "        docLink.innerHTML = docLinkHtml;\n",
              "        element.appendChild(docLink);\n",
              "      }\n",
              "    </script>\n",
              "  </div>\n",
              "\n",
              "\n",
              "<div id=\"df-91bc23f0-5f64-472b-90ed-2aa337ed32f6\">\n",
              "  <button class=\"colab-df-quickchart\" onclick=\"quickchart('df-91bc23f0-5f64-472b-90ed-2aa337ed32f6')\"\n",
              "            title=\"Suggest charts\"\n",
              "            style=\"display:none;\">\n",
              "\n",
              "<svg xmlns=\"http://www.w3.org/2000/svg\" height=\"24px\"viewBox=\"0 0 24 24\"\n",
              "     width=\"24px\">\n",
              "    <g>\n",
              "        <path d=\"M19 3H5c-1.1 0-2 .9-2 2v14c0 1.1.9 2 2 2h14c1.1 0 2-.9 2-2V5c0-1.1-.9-2-2-2zM9 17H7v-7h2v7zm4 0h-2V7h2v10zm4 0h-2v-4h2v4z\"/>\n",
              "    </g>\n",
              "</svg>\n",
              "  </button>\n",
              "\n",
              "<style>\n",
              "  .colab-df-quickchart {\n",
              "      --bg-color: #E8F0FE;\n",
              "      --fill-color: #1967D2;\n",
              "      --hover-bg-color: #E2EBFA;\n",
              "      --hover-fill-color: #174EA6;\n",
              "      --disabled-fill-color: #AAA;\n",
              "      --disabled-bg-color: #DDD;\n",
              "  }\n",
              "\n",
              "  [theme=dark] .colab-df-quickchart {\n",
              "      --bg-color: #3B4455;\n",
              "      --fill-color: #D2E3FC;\n",
              "      --hover-bg-color: #434B5C;\n",
              "      --hover-fill-color: #FFFFFF;\n",
              "      --disabled-bg-color: #3B4455;\n",
              "      --disabled-fill-color: #666;\n",
              "  }\n",
              "\n",
              "  .colab-df-quickchart {\n",
              "    background-color: var(--bg-color);\n",
              "    border: none;\n",
              "    border-radius: 50%;\n",
              "    cursor: pointer;\n",
              "    display: none;\n",
              "    fill: var(--fill-color);\n",
              "    height: 32px;\n",
              "    padding: 0;\n",
              "    width: 32px;\n",
              "  }\n",
              "\n",
              "  .colab-df-quickchart:hover {\n",
              "    background-color: var(--hover-bg-color);\n",
              "    box-shadow: 0 1px 2px rgba(60, 64, 67, 0.3), 0 1px 3px 1px rgba(60, 64, 67, 0.15);\n",
              "    fill: var(--button-hover-fill-color);\n",
              "  }\n",
              "\n",
              "  .colab-df-quickchart-complete:disabled,\n",
              "  .colab-df-quickchart-complete:disabled:hover {\n",
              "    background-color: var(--disabled-bg-color);\n",
              "    fill: var(--disabled-fill-color);\n",
              "    box-shadow: none;\n",
              "  }\n",
              "\n",
              "  .colab-df-spinner {\n",
              "    border: 2px solid var(--fill-color);\n",
              "    border-color: transparent;\n",
              "    border-bottom-color: var(--fill-color);\n",
              "    animation:\n",
              "      spin 1s steps(1) infinite;\n",
              "  }\n",
              "\n",
              "  @keyframes spin {\n",
              "    0% {\n",
              "      border-color: transparent;\n",
              "      border-bottom-color: var(--fill-color);\n",
              "      border-left-color: var(--fill-color);\n",
              "    }\n",
              "    20% {\n",
              "      border-color: transparent;\n",
              "      border-left-color: var(--fill-color);\n",
              "      border-top-color: var(--fill-color);\n",
              "    }\n",
              "    30% {\n",
              "      border-color: transparent;\n",
              "      border-left-color: var(--fill-color);\n",
              "      border-top-color: var(--fill-color);\n",
              "      border-right-color: var(--fill-color);\n",
              "    }\n",
              "    40% {\n",
              "      border-color: transparent;\n",
              "      border-right-color: var(--fill-color);\n",
              "      border-top-color: var(--fill-color);\n",
              "    }\n",
              "    60% {\n",
              "      border-color: transparent;\n",
              "      border-right-color: var(--fill-color);\n",
              "    }\n",
              "    80% {\n",
              "      border-color: transparent;\n",
              "      border-right-color: var(--fill-color);\n",
              "      border-bottom-color: var(--fill-color);\n",
              "    }\n",
              "    90% {\n",
              "      border-color: transparent;\n",
              "      border-bottom-color: var(--fill-color);\n",
              "    }\n",
              "  }\n",
              "</style>\n",
              "\n",
              "  <script>\n",
              "    async function quickchart(key) {\n",
              "      const quickchartButtonEl =\n",
              "        document.querySelector('#' + key + ' button');\n",
              "      quickchartButtonEl.disabled = true;  // To prevent multiple clicks.\n",
              "      quickchartButtonEl.classList.add('colab-df-spinner');\n",
              "      try {\n",
              "        const charts = await google.colab.kernel.invokeFunction(\n",
              "            'suggestCharts', [key], {});\n",
              "      } catch (error) {\n",
              "        console.error('Error during call to suggestCharts:', error);\n",
              "      }\n",
              "      quickchartButtonEl.classList.remove('colab-df-spinner');\n",
              "      quickchartButtonEl.classList.add('colab-df-quickchart-complete');\n",
              "    }\n",
              "    (() => {\n",
              "      let quickchartButtonEl =\n",
              "        document.querySelector('#df-91bc23f0-5f64-472b-90ed-2aa337ed32f6 button');\n",
              "      quickchartButtonEl.style.display =\n",
              "        google.colab.kernel.accessAllowed ? 'block' : 'none';\n",
              "    })();\n",
              "  </script>\n",
              "</div>\n",
              "    </div>\n",
              "  </div>\n"
            ]
          },
          "metadata": {},
          "execution_count": 7
        }
      ]
    },
    {
      "cell_type": "markdown",
      "source": [
        "### plotting trial or session data for visual inspection"
      ],
      "metadata": {
        "id": "d2MhTUYE983I"
      }
    },
    {
      "cell_type": "code",
      "source": [
        "session.plot_trial(\"Trial_6\")"
      ],
      "metadata": {
        "colab": {
          "base_uri": "https://localhost:8080/",
          "height": 539
        },
        "id": "9Sxgs6Zm9JLd",
        "outputId": "402ad868-6a94-41c7-9d03-e8692d189721"
      },
      "execution_count": 8,
      "outputs": [
        {
          "output_type": "execute_result",
          "data": {
            "text/plain": [
              "<Axes: title={'center': 'Trial#: Trial_6, Trial type: 0'}, xlabel='Time (s)', ylabel='Event (1 if Lick/Water Present)'>"
            ]
          },
          "metadata": {},
          "execution_count": 8
        },
        {
          "output_type": "display_data",
          "data": {
            "text/plain": [
              "<Figure size 640x480 with 1 Axes>"
            ],
            "image/png": "[encoded data removed]"
          },
          "metadata": {}
        }
      ]
    },
    {
      "cell_type": "code",
      "source": [
        "plot_file = processed_file.split(\".\")[0] + \"_session.png\"\n",
        "fig, _ = session.plot_session()\n",
        "fig.savefig(plot_file, bbox_inches='tight', dpi=300)"
      ],
      "metadata": {
        "colab": {
          "base_uri": "https://localhost:8080/",
          "height": 540
        },
        "id": "_PnX2DYQ9uOA",
        "outputId": "a7826f0c-a677-4a3b-fd21-74e312dd6f4b"
      },
      "execution_count": 10,
      "outputs": [
        {
          "output_type": "display_data",
          "data": {
            "text/plain": [
              "<Figure size 1500x1000 with 6 Axes>"
            ],
            "image/png": "[encoded data removed]"
          },
          "metadata": {}
        }
      ]
    },
    {
      "cell_type": "markdown",
      "source": [
        "## Quantitiative analysis"
      ],
      "metadata": {
        "id": "YAlzjqMqBWOp"
      }
    },
    {
      "cell_type": "markdown",
      "source": [
        "#### Trial analysis"
      ],
      "metadata": {
        "id": "tDtogzuwBiQM"
      }
    },
    {
      "cell_type": "code",
      "source": [
        "lick_rate = session.rate_calulator(\"Trial_1\", \"Lick\")\n",
        "lick_rate"
      ],
      "metadata": {
        "colab": {
          "base_uri": "https://localhost:8080/"
        },
        "id": "Zgfxypf39x4S",
        "outputId": "f119c054-60e5-4012-a1d3-d86605b00de1"
      },
      "execution_count": 11,
      "outputs": [
        {
          "output_type": "execute_result",
          "data": {
            "text/plain": [
              "{'event': 'Lick',\n",
              " 'frequency': 1.8399632007359854,\n",
              " 'count': 92,\n",
              " 'duration': 50.001,\n",
              " 'trial_type': '0'}"
            ]
          },
          "metadata": {},
          "execution_count": 11
        }
      ]
    },
    {
      "cell_type": "code",
      "source": [
        "reward_rate = session.rate_calulator(\"Trial_1\", \"Water on\")\n",
        "reward_rate"
      ],
      "metadata": {
        "colab": {
          "base_uri": "https://localhost:8080/"
        },
        "id": "prJLcpDGBqVl",
        "outputId": "460eaf95-a0cf-4287-b10d-c0ef8a7890b2"
      },
      "execution_count": 12,
      "outputs": [
        {
          "output_type": "execute_result",
          "data": {
            "text/plain": [
              "{'event': 'Water on',\n",
              " 'frequency': 0.4799904001919962,\n",
              " 'count': 24,\n",
              " 'duration': 50.001,\n",
              " 'trial_type': '0'}"
            ]
          },
          "metadata": {},
          "execution_count": 12
        }
      ]
    },
    {
      "cell_type": "markdown",
      "source": [
        "#### Session analysis"
      ],
      "metadata": {
        "id": "1E_ibpU7BvMu"
      }
    },
    {
      "cell_type": "code",
      "source": [
        "results = []\n",
        "\n",
        "for trial in trials:\n",
        "    licks = session.rate_calulator(trial, \"Lick\")\n",
        "    reward_rate = session.rate_calulator(trial, \"Water on\")\n",
        "\n",
        "    combined_results = {f\"lick_{k}\": v for k, v in licks.items()}\n",
        "    combined_results.update({f\"water_{k}\": v for k, v in reward_rate.items()})\n",
        "    combined_results[\"Trial\"] = trial\n",
        "\n",
        "    results.append(combined_results)\n",
        "\n",
        "result_df = pd.DataFrame(results)\n",
        "result_df.set_index(\"Trial\", inplace=True)\n",
        "result_df"
      ],
      "metadata": {
        "colab": {
          "base_uri": "https://localhost:8080/",
          "height": 289
        },
        "id": "fA2L9NvyBsH0",
        "outputId": "0be4fe9b-bd52-4168-db24-d71758f37cff"
      },
      "execution_count": 15,
      "outputs": [
        {
          "output_type": "execute_result",
          "data": {
            "text/plain": [
              "        lick_event  lick_frequency  lick_count  lick_duration lick_trial_type  \\\n",
              "Trial                                                                           \n",
              "Trial_1       Lick        1.839963          92         50.001               0   \n",
              "Trial_2       Lick        0.859983          43         50.001               0   \n",
              "Trial_3       Lick        0.119998           6         50.001               1   \n",
              "Trial_4       Lick        0.299994          15         50.001               1   \n",
              "Trial_5       Lick        0.099998           5         50.001               1   \n",
              "Trial_6       Lick        0.199996          10         50.001               0   \n",
              "\n",
              "        water_event  water_frequency  water_count  water_duration  \\\n",
              "Trial                                                               \n",
              "Trial_1    Water on         0.479990           24          50.001   \n",
              "Trial_2    Water on         0.179996            9          50.001   \n",
              "Trial_3    Water on         0.020000            1          50.001   \n",
              "Trial_4    Water on         0.059999            3          50.001   \n",
              "Trial_5    Water on         0.020000            1          50.001   \n",
              "Trial_6    Water on         0.020000            1          50.001   \n",
              "\n",
              "        water_trial_type  \n",
              "Trial                     \n",
              "Trial_1                0  \n",
              "Trial_2                0  \n",
              "Trial_3                1  \n",
              "Trial_4                1  \n",
              "Trial_5                1  \n",
              "Trial_6                0  "
            ],
            "text/html": [
              "\n",
              "  <div id=\"df-2b1b930b-13c1-4717-b36a-028118ef823a\" class=\"colab-df-container\">\n",
              "    <div>\n",
              "<style scoped>\n",
              "    .dataframe tbody tr th:only-of-type {\n",
              "        vertical-align: middle;\n",
              "    }\n",
              "\n",
              "    .dataframe tbody tr th {\n",
              "        vertical-align: top;\n",
              "    }\n",
              "\n",
              "    .dataframe thead th {\n",
              "        text-align: right;\n",
              "    }\n",
              "</style>\n",
              "<table border=\"1\" class=\"dataframe\">\n",
              "  <thead>\n",
              "    <tr style=\"text-align: right;\">\n",
              "      <th></th>\n",
              "      <th>lick_event</th>\n",
              "      <th>lick_frequency</th>\n",
              "      <th>lick_count</th>\n",
              "      <th>lick_duration</th>\n",
              "      <th>lick_trial_type</th>\n",
              "      <th>water_event</th>\n",
              "      <th>water_frequency</th>\n",
              "      <th>water_count</th>\n",
              "      <th>water_duration</th>\n",
              "      <th>water_trial_type</th>\n",
              "    </tr>\n",
              "    <tr>\n",
              "      <th>Trial</th>\n",
              "      <th></th>\n",
              "      <th></th>\n",
              "      <th></th>\n",
              "      <th></th>\n",
              "      <th></th>\n",
              "      <th></th>\n",
              "      <th></th>\n",
              "      <th></th>\n",
              "      <th></th>\n",
              "      <th></th>\n",
              "    </tr>\n",
              "  </thead>\n",
              "  <tbody>\n",
              "    <tr>\n",
              "      <th>Trial_1</th>\n",
              "      <td>Lick</td>\n",
              "      <td>1.839963</td>\n",
              "      <td>92</td>\n",
              "      <td>50.001</td>\n",
              "      <td>0</td>\n",
              "      <td>Water on</td>\n",
              "      <td>0.479990</td>\n",
              "      <td>24</td>\n",
              "      <td>50.001</td>\n",
              "      <td>0</td>\n",
              "    </tr>\n",
              "    <tr>\n",
              "      <th>Trial_2</th>\n",
              "      <td>Lick</td>\n",
              "      <td>0.859983</td>\n",
              "      <td>43</td>\n",
              "      <td>50.001</td>\n",
              "      <td>0</td>\n",
              "      <td>Water on</td>\n",
              "      <td>0.179996</td>\n",
              "      <td>9</td>\n",
              "      <td>50.001</td>\n",
              "      <td>0</td>\n",
              "    </tr>\n",
              "    <tr>\n",
              "      <th>Trial_3</th>\n",
              "      <td>Lick</td>\n",
              "      <td>0.119998</td>\n",
              "      <td>6</td>\n",
              "      <td>50.001</td>\n",
              "      <td>1</td>\n",
              "      <td>Water on</td>\n",
              "      <td>0.020000</td>\n",
              "      <td>1</td>\n",
              "      <td>50.001</td>\n",
              "      <td>1</td>\n",
              "    </tr>\n",
              "    <tr>\n",
              "      <th>Trial_4</th>\n",
              "      <td>Lick</td>\n",
              "      <td>0.299994</td>\n",
              "      <td>15</td>\n",
              "      <td>50.001</td>\n",
              "      <td>1</td>\n",
              "      <td>Water on</td>\n",
              "      <td>0.059999</td>\n",
              "      <td>3</td>\n",
              "      <td>50.001</td>\n",
              "      <td>1</td>\n",
              "    </tr>\n",
              "    <tr>\n",
              "      <th>Trial_5</th>\n",
              "      <td>Lick</td>\n",
              "      <td>0.099998</td>\n",
              "      <td>5</td>\n",
              "      <td>50.001</td>\n",
              "      <td>1</td>\n",
              "      <td>Water on</td>\n",
              "      <td>0.020000</td>\n",
              "      <td>1</td>\n",
              "      <td>50.001</td>\n",
              "      <td>1</td>\n",
              "    </tr>\n",
              "    <tr>\n",
              "      <th>Trial_6</th>\n",
              "      <td>Lick</td>\n",
              "      <td>0.199996</td>\n",
              "      <td>10</td>\n",
              "      <td>50.001</td>\n",
              "      <td>0</td>\n",
              "      <td>Water on</td>\n",
              "      <td>0.020000</td>\n",
              "      <td>1</td>\n",
              "      <td>50.001</td>\n",
              "      <td>0</td>\n",
              "    </tr>\n",
              "  </tbody>\n",
              "</table>\n",
              "</div>\n",
              "    <div class=\"colab-df-buttons\">\n",
              "\n",
              "  <div class=\"colab-df-container\">\n",
              "    <button class=\"colab-df-convert\" onclick=\"convertToInteractive('df-2b1b930b-13c1-4717-b36a-028118ef823a')\"\n",
              "            title=\"Convert this dataframe to an interactive table.\"\n",
              "            style=\"display:none;\">\n",
              "\n",
              "  <svg xmlns=\"http://www.w3.org/2000/svg\" height=\"24px\" viewBox=\"0 -960 960 960\">\n",
              "    <path d=\"M120-120v-720h720v720H120Zm60-500h600v-160H180v160Zm220 220h160v-160H400v160Zm0 220h160v-160H400v160ZM180-400h160v-160H180v160Zm440 0h160v-160H620v160ZM180-180h160v-160H180v160Zm440 0h160v-160H620v160Z\"/>\n",
              "  </svg>\n",
              "    </button>\n",
              "\n",
              "  <style>\n",
              "    .colab-df-container {\n",
              "      display:flex;\n",
              "      gap: 12px;\n",
              "    }\n",
              "\n",
              "    .colab-df-convert {\n",
              "      background-color: #E8F0FE;\n",
              "      border: none;\n",
              "      border-radius: 50%;\n",
              "      cursor: pointer;\n",
              "      display: none;\n",
              "      fill: #1967D2;\n",
              "      height: 32px;\n",
              "      padding: 0 0 0 0;\n",
              "      width: 32px;\n",
              "    }\n",
              "\n",
              "    .colab-df-convert:hover {\n",
              "      background-color: #E2EBFA;\n",
              "      box-shadow: 0px 1px 2px rgba(60, 64, 67, 0.3), 0px 1px 3px 1px rgba(60, 64, 67, 0.15);\n",
              "      fill: #174EA6;\n",
              "    }\n",
              "\n",
              "    .colab-df-buttons div {\n",
              "      margin-bottom: 4px;\n",
              "    }\n",
              "\n",
              "    [theme=dark] .colab-df-convert {\n",
              "      background-color: #3B4455;\n",
              "      fill: #D2E3FC;\n",
              "    }\n",
              "\n",
              "    [theme=dark] .colab-df-convert:hover {\n",
              "      background-color: #434B5C;\n",
              "      box-shadow: 0px 1px 3px 1px rgba(0, 0, 0, 0.15);\n",
              "      filter: drop-shadow(0px 1px 2px rgba(0, 0, 0, 0.3));\n",
              "      fill: #FFFFFF;\n",
              "    }\n",
              "  </style>\n",
              "\n",
              "    <script>\n",
              "      const buttonEl =\n",
              "        document.querySelector('#df-2b1b930b-13c1-4717-b36a-028118ef823a button.colab-df-convert');\n",
              "      buttonEl.style.display =\n",
              "        google.colab.kernel.accessAllowed ? 'block' : 'none';\n",
              "\n",
              "      async function convertToInteractive(key) {\n",
              "        const element = document.querySelector('#df-2b1b930b-13c1-4717-b36a-028118ef823a');\n",
              "        const dataTable =\n",
              "          await google.colab.kernel.invokeFunction('convertToInteractive',\n",
              "                                                    [key], {});\n",
              "        if (!dataTable) return;\n",
              "\n",
              "        const docLinkHtml = 'Like what you see? Visit the ' +\n",
              "          '<a target=\"_blank\" href=https://colab.research.google.com/notebooks/data_table.ipynb>data table notebook</a>'\n",
              "          + ' to learn more about interactive tables.';\n",
              "        element.innerHTML = '';\n",
              "        dataTable['output_type'] = 'display_data';\n",
              "        await google.colab.output.renderOutput(dataTable, element);\n",
              "        const docLink = document.createElement('div');\n",
              "        docLink.innerHTML = docLinkHtml;\n",
              "        element.appendChild(docLink);\n",
              "      }\n",
              "    </script>\n",
              "  </div>\n",
              "\n",
              "\n",
              "<div id=\"df-de5165ca-602a-4666-8f32-47fb20045e7a\">\n",
              "  <button class=\"colab-df-quickchart\" onclick=\"quickchart('df-de5165ca-602a-4666-8f32-47fb20045e7a')\"\n",
              "            title=\"Suggest charts\"\n",
              "            style=\"display:none;\">\n",
              "\n",
              "<svg xmlns=\"http://www.w3.org/2000/svg\" height=\"24px\"viewBox=\"0 0 24 24\"\n",
              "     width=\"24px\">\n",
              "    <g>\n",
              "        <path d=\"M19 3H5c-1.1 0-2 .9-2 2v14c0 1.1.9 2 2 2h14c1.1 0 2-.9 2-2V5c0-1.1-.9-2-2-2zM9 17H7v-7h2v7zm4 0h-2V7h2v10zm4 0h-2v-4h2v4z\"/>\n",
              "    </g>\n",
              "</svg>\n",
              "  </button>\n",
              "\n",
              "<style>\n",
              "  .colab-df-quickchart {\n",
              "      --bg-color: #E8F0FE;\n",
              "      --fill-color: #1967D2;\n",
              "      --hover-bg-color: #E2EBFA;\n",
              "      --hover-fill-color: #174EA6;\n",
              "      --disabled-fill-color: #AAA;\n",
              "      --disabled-bg-color: #DDD;\n",
              "  }\n",
              "\n",
              "  [theme=dark] .colab-df-quickchart {\n",
              "      --bg-color: #3B4455;\n",
              "      --fill-color: #D2E3FC;\n",
              "      --hover-bg-color: #434B5C;\n",
              "      --hover-fill-color: #FFFFFF;\n",
              "      --disabled-bg-color: #3B4455;\n",
              "      --disabled-fill-color: #666;\n",
              "  }\n",
              "\n",
              "  .colab-df-quickchart {\n",
              "    background-color: var(--bg-color);\n",
              "    border: none;\n",
              "    border-radius: 50%;\n",
              "    cursor: pointer;\n",
              "    display: none;\n",
              "    fill: var(--fill-color);\n",
              "    height: 32px;\n",
              "    padding: 0;\n",
              "    width: 32px;\n",
              "  }\n",
              "\n",
              "  .colab-df-quickchart:hover {\n",
              "    background-color: var(--hover-bg-color);\n",
              "    box-shadow: 0 1px 2px rgba(60, 64, 67, 0.3), 0 1px 3px 1px rgba(60, 64, 67, 0.15);\n",
              "    fill: var(--button-hover-fill-color);\n",
              "  }\n",
              "\n",
              "  .colab-df-quickchart-complete:disabled,\n",
              "  .colab-df-quickchart-complete:disabled:hover {\n",
              "    background-color: var(--disabled-bg-color);\n",
              "    fill: var(--disabled-fill-color);\n",
              "    box-shadow: none;\n",
              "  }\n",
              "\n",
              "  .colab-df-spinner {\n",
              "    border: 2px solid var(--fill-color);\n",
              "    border-color: transparent;\n",
              "    border-bottom-color: var(--fill-color);\n",
              "    animation:\n",
              "      spin 1s steps(1) infinite;\n",
              "  }\n",
              "\n",
              "  @keyframes spin {\n",
              "    0% {\n",
              "      border-color: transparent;\n",
              "      border-bottom-color: var(--fill-color);\n",
              "      border-left-color: var(--fill-color);\n",
              "    }\n",
              "    20% {\n",
              "      border-color: transparent;\n",
              "      border-left-color: var(--fill-color);\n",
              "      border-top-color: var(--fill-color);\n",
              "    }\n",
              "    30% {\n",
              "      border-color: transparent;\n",
              "      border-left-color: var(--fill-color);\n",
              "      border-top-color: var(--fill-color);\n",
              "      border-right-color: var(--fill-color);\n",
              "    }\n",
              "    40% {\n",
              "      border-color: transparent;\n",
              "      border-right-color: var(--fill-color);\n",
              "      border-top-color: var(--fill-color);\n",
              "    }\n",
              "    60% {\n",
              "      border-color: transparent;\n",
              "      border-right-color: var(--fill-color);\n",
              "    }\n",
              "    80% {\n",
              "      border-color: transparent;\n",
              "      border-right-color: var(--fill-color);\n",
              "      border-bottom-color: var(--fill-color);\n",
              "    }\n",
              "    90% {\n",
              "      border-color: transparent;\n",
              "      border-bottom-color: var(--fill-color);\n",
              "    }\n",
              "  }\n",
              "</style>\n",
              "\n",
              "  <script>\n",
              "    async function quickchart(key) {\n",
              "      const quickchartButtonEl =\n",
              "        document.querySelector('#' + key + ' button');\n",
              "      quickchartButtonEl.disabled = true;  // To prevent multiple clicks.\n",
              "      quickchartButtonEl.classList.add('colab-df-spinner');\n",
              "      try {\n",
              "        const charts = await google.colab.kernel.invokeFunction(\n",
              "            'suggestCharts', [key], {});\n",
              "      } catch (error) {\n",
              "        console.error('Error during call to suggestCharts:', error);\n",
              "      }\n",
              "      quickchartButtonEl.classList.remove('colab-df-spinner');\n",
              "      quickchartButtonEl.classList.add('colab-df-quickchart-complete');\n",
              "    }\n",
              "    (() => {\n",
              "      let quickchartButtonEl =\n",
              "        document.querySelector('#df-de5165ca-602a-4666-8f32-47fb20045e7a button');\n",
              "      quickchartButtonEl.style.display =\n",
              "        google.colab.kernel.accessAllowed ? 'block' : 'none';\n",
              "    })();\n",
              "  </script>\n",
              "</div>\n",
              "    </div>\n",
              "  </div>\n"
            ]
          },
          "metadata": {},
          "execution_count": 15
        }
      ]
    },
    {
      "cell_type": "markdown",
      "source": [
        "Saving data"
      ],
      "metadata": {
        "id": "lFu_rTTpCAI4"
      }
    },
    {
      "cell_type": "code",
      "source": [
        "analyzed_file = file_path.split(\".\")[0] + \"_analyzed.json\"\n",
        "result_df.to_json(analyzed_file, orient=\"table\", date_format=\"iso\")"
      ],
      "metadata": {
        "id": "6oiyAjfuB4U7"
      },
      "execution_count": 17,
      "outputs": []
    },
    {
      "cell_type": "code",
      "source": [],
      "metadata": {
        "id": "fLZ4N9YqCkU8"
      },
      "execution_count": null,
      "outputs": []
    }
  ]
}