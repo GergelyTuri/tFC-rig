{
  "nbformat": 4,
  "nbformat_minor": 0,
  "metadata": {
    "colab": {
      "provenance": [],
      "toc_visible": true
    },
    "kernelspec": {
      "name": "python3",
      "display_name": "Python 3"
    },
    "language_info": {
      "name": "python"
    }
  },
  "cells": [
    {
      "cell_type": "markdown",
      "source": [
        "# Trace Fear Conditioning Analysis Pipeline\n",
        "\n",
        "This notebook is a prototype for an analysis pipeline for the Trace Fear Conditioning rig:\n",
        "\n",
        "* <https://github.com/GergelyTuri/tFC-rig>\n",
        "\n",
        "The goal of the pipeline and its supporting code is to:\n",
        "\n",
        "* Fix inconsistent folder and file names\n",
        "* Inspect data for inconsistencies (and fix some of these)\n",
        "* Extract features from the data into a usable format (Pandas data frames)\n",
        "* Provide a variety of exploratory or numerical data analysis tools to gain potential insights from the data\n",
        "\n",
        "## Assumptions\n",
        "\n",
        "The analysis pipeline code makes the following assumptions:\n",
        "\n",
        "* You are executing the code from a Google Colaboratory notebook\n",
        "* Your data is stored on Google Drive"
      ],
      "metadata": {
        "id": "Wwfe4kSgP5mC"
      }
    },
    {
      "cell_type": "markdown",
      "source": [
        "## Notebook Setup\n",
        "\n",
        "Using the `tFC-rig` analysis pipeline code requires a few notebook-specific steps. This section will typically be copied into any notebook analysing rig data."
      ],
      "metadata": {
        "id": "b3SKO0VLVA6S"
      }
    },
    {
      "cell_type": "code",
      "source": [
        "import os\n",
        "import sys\n",
        "\n",
        "# NOTE: if you change this, you may be breaking certain assumptions this\n",
        "# code was deveveloped on. Consider stepping through each section carefully and\n",
        "# avoiding renaming any files or directories until observing the data file name\n",
        "# patterns\n",
        "DATA_ROOT = \"/gdrive/Shareddrives/Turi_lab/Data/aging_project/\"\n",
        "\n",
        "# Google Colaboratory executes in an environment with a file system\n",
        "# that has a Linux topography, but where the user should work under\n",
        "# the `/content` directory\n",
        "COLAB_ROOT = \"/content\"\n",
        "\n",
        "REPO_URL = \"https://github.com/GergelyTuri/tFC-rig.git\"\n",
        "REPO_ROOT = os.path.join(COLAB_ROOT, REPO_URL.split(\"/\")[-1].split(\".\")[0])\n",
        "REPO_BRANCH = \"cpr/analysis-pipeline\"\n",
        "\n",
        "# Clones the `tFC-rig` repository at `/content/tFC-rig`\n",
        "if not os.path.exists(REPO_ROOT):\n",
        "  os.chdir(COLAB_ROOT)\n",
        "  !git clone {REPO_URL}\n",
        "\n",
        "# Pulls the latest code from the provided branch and adds the\n",
        "# analysis pipeline source code to the Python system path\n",
        "os.chdir(REPO_ROOT)\n",
        "!git pull\n",
        "!git checkout {REPO_BRANCH}\n",
        "sys.path.append(os.path.join(REPO_ROOT, \"Analysis\"))\n",
        "os.chdir(COLAB_ROOT)"
      ],
      "metadata": {
        "id": "qcWR17MZVRxK"
      },
      "execution_count": null,
      "outputs": []
    },
    {
      "cell_type": "code",
      "source": [
        "from tfcrig.notebook import Notebook\n",
        "\n",
        "notebook = Notebook(\n",
        "    file_root=COLAB_ROOT,\n",
        "    repo_url=REPO_URL,\n",
        "    repo_root=REPO_ROOT,\n",
        "    repo_branch=REPO_BRANCH,\n",
        "    data_root=DATA_ROOT,\n",
        "    max_cell_height=1000,\n",
        ")\n",
        "notebook.setup()"
      ],
      "metadata": {
        "id": "3oXiLcESX_Y7"
      },
      "execution_count": null,
      "outputs": []
    },
    {
      "cell_type": "markdown",
      "source": [
        "## Data Prep\n",
        "\n",
        "Check, prep, and clean data"
      ],
      "metadata": {
        "id": "WZBwM1mCyhvR"
      }
    },
    {
      "cell_type": "markdown",
      "source": [
        "### Check Folders and Files\n",
        "\n",
        "Perform a set of checks on the provided data folders and files. This can reveal issues in data collection prior to running an analysis"
      ],
      "metadata": {
        "id": "2qPmqROGTdq4"
      }
    },
    {
      "cell_type": "code",
      "source": [
        "from tfcrig.files import RigFiles\n",
        "\n",
        "files = RigFiles(\n",
        "    data_root=DATA_ROOT,\n",
        "    dry_run=True,\n",
        ")\n",
        "files.check()"
      ],
      "metadata": {
        "id": "9hBBdYHmTlEp"
      },
      "execution_count": null,
      "outputs": []
    },
    {
      "cell_type": "markdown",
      "source": [
        "### Prep Data for Cleaning\n",
        "\n",
        "Prior to cleaning the data, which can be made to modify folder and file names as well as data files themselves, ensure that a copy of each JSON file exists."
      ],
      "metadata": {
        "id": "wSy9lHlBqgbN"
      }
    },
    {
      "cell_type": "code",
      "source": [
        "files.prep()"
      ],
      "metadata": {
        "id": "RrT14PMPqqfi"
      },
      "execution_count": null,
      "outputs": []
    },
    {
      "cell_type": "markdown",
      "source": [
        "### Clean Folders and Files\n",
        "\n",
        "Runs a set of methods that cleans the data."
      ],
      "metadata": {
        "id": "JCoNgnFeo9p3"
      }
    },
    {
      "cell_type": "code",
      "source": [
        "files.clean()"
      ],
      "metadata": {
        "id": "pV0xBMKLpEq-"
      },
      "execution_count": null,
      "outputs": []
    },
    {
      "cell_type": "markdown",
      "source": [
        "## Analysis\n",
        "\n",
        "Define an analysis, which extracts features from the data and provides plotting methods to visualize and analyze the data. This requires pulling and processing data from all files, and can therefore be time consuming."
      ],
      "metadata": {
        "id": "f7_QcPwrymug"
      }
    },
    {
      "cell_type": "code",
      "source": [
        "from tfcrig.analysis import Analysis\n",
        "\n",
        "analysis = Analysis(\n",
        "    data_root=DATA_ROOT,\n",
        "    verbose=False,\n",
        ")"
      ],
      "metadata": {
        "id": "1DjYT7rVyvZu"
      },
      "execution_count": null,
      "outputs": []
    },
    {
      "cell_type": "markdown",
      "source": [
        "### Analysis Info\n",
        "\n",
        "It can be useful to check the `info` on the `Analysis` object to confirm that the columns are all not null, the column names are what we expect from the rig data, and the memory usage is reasonable. If memory usage becomes unmanageable, it may be necessary to optimize it by storing processed data in files and only working with feature data (for example)."
      ],
      "metadata": {
        "id": "BDeERQaJzJV-"
      }
    },
    {
      "cell_type": "code",
      "source": [
        "analysis.info()"
      ],
      "metadata": {
        "id": "2Kt5CMuXypMP"
      },
      "execution_count": null,
      "outputs": []
    },
    {
      "cell_type": "markdown",
      "source": [
        "### Licks Over Time\n",
        "\n",
        "First example plot of licks over time separated by trial type."
      ],
      "metadata": {
        "id": "mPJIkdHpsqe4"
      }
    },
    {
      "cell_type": "code",
      "source": [
        "analysis.summarize_licks_per_session(\n",
        "    mouse_ids=[\"88_1\", \"88_2\", \"88_3\", \"89_1\", \"89_2\"],\n",
        "    min_session=20240103000000,\n",
        "    water_on=False,\n",
        "    tail_length=12,\n",
        ")"
      ],
      "metadata": {
        "id": "D0GaW0_E43Wp"
      },
      "execution_count": null,
      "outputs": []
    },
    {
      "cell_type": "code",
      "source": [
        "analysis.summarize_licks_per_session(\n",
        "    mouse_ids=[\"88_1\", \"88_2\", \"88_3\", \"89_1\", \"89_2\"],\n",
        "    min_session=20240103000000,\n",
        "    water_on=True,\n",
        "    tail_length=12,\n",
        ")"
      ],
      "metadata": {
        "id": "_ZXo6r_5vy_8"
      },
      "execution_count": null,
      "outputs": []
    },
    {
      "cell_type": "code",
      "source": [
        "analysis.learning_rate_heat_map(\n",
        "    mouse_ids=[\n",
        "        # \"74_1\", \"74_2\", \"74_4\", \"74_5\",\n",
        "        # \"75_1\", \"75_2\", \"75_4\", \"75_5\",\n",
        "        \"88_1\", \"88_2\", \"88_3\", \"89_1\", \"89_2\",\n",
        "        \"90_1\", \"90_2\", \"90_5\",\n",
        "        \"91_1\", \"91_2\", \"91_5\",\n",
        "        \"92_1\", \"92_2\",\n",
        "        \"93_1\", \"93_2\", \"93_5\",\n",
        "    ],\n",
        "    min_session=0,\n",
        "    water_on=False,\n",
        "    tail_length=12,\n",
        ")"
      ],
      "metadata": {
        "id": "5jVoHNZWNLwS"
      },
      "execution_count": null,
      "outputs": []
    }
  ]
}