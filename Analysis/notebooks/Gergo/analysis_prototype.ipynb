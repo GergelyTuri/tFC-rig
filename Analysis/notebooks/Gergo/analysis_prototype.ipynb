{
 "cells": [
  {
   "cell_type": "code",
   "execution_count": 1,
   "metadata": {},
   "outputs": [],
   "source": [
    "import os\n",
    "import sys\n",
    "\n",
    "DATA_ROOT = \"G:/Shared drives/Turi_lab/Data/aging_project\""
   ]
  },
  {
   "cell_type": "code",
   "execution_count": 2,
   "metadata": {},
   "outputs": [],
   "source": [
    "import tfcrig.analysis\n",
    "import tfcrig.files\n",
    "from tfcrig.notebook import Notebook"
   ]
  }
 ],
 "metadata": {
  "kernelspec": {
   "display_name": "cued-fc",
   "language": "python",
   "name": "python3"
  },
  "language_info": {
   "codemirror_mode": {
    "name": "ipython",
    "version": 3
   },
   "file_extension": ".py",
   "mimetype": "text/x-python",
   "name": "python",
   "nbconvert_exporter": "python",
   "pygments_lexer": "ipython3",
   "version": "3.10.15"
  }
 },
 "nbformat": 4,
 "nbformat_minor": 2
}
