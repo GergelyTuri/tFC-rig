{
 "cells": [
  {
   "cell_type": "markdown",
   "metadata": {},
   "source": [
    "# Example notebook for demonstrating the use of the google spreadsheets when working in a VSCODE notebook\n",
    "\n",
    "# Pre-requisites:\n",
    "\n",
    "- Ensure that the envrionment is up-to-date by running `conda env update -f environment.yml`. \n",
    "\n",
    "# Authentication and Authorization access to the Google Sheets API\n",
    "\n",
    "1. Go to Google [Cloud Console](https://cloud.google.com/)\n",
    "   \n",
    "   * In the top-left corner, click on the project dropdown and then click New Project\n",
    "   * Enter a name for your project (e.g., \"My Sheets Project\"), select a billing account if prompted, and then click Create.\n",
    "   * Make sure the newly created project is selected (you can select it from the dropdown in the top-left).\n",
    "   \n",
    "2. Enable the Google Sheets API for the project. \n",
    "\n",
    "   * With your project selected, go to Google Sheets API page.\n",
    "   * Click Enable to enable the API for your project.\n",
    "\n",
    "3. Create a Service Account:\n",
    "\n",
    "   * In the Cloud Console’s left navigation bar, go to IAM & Admin > Service Accounts.\n",
    "   * Click + CREATE SERVICE ACCOUNT at the top.\n",
    "   * Provide a name for your service account (e.g., \"my-sheets-service-account\") and optionally a description. Click Create and Continue.\n",
    "   * For the permissions step, you typically don’t need to assign any roles if you’re just reading your own Sheets. You can just click Continue.\n",
    "   * Click Done if there are no additional steps.\n",
    "\n",
    "Now you have a service account created.\n",
    "\n",
    "1. Create and Download a Service Account Key:\n",
    "\n",
    "   * Still on the IAM & Admin > Service Accounts page, find your newly created service account in the list.\n",
    "   * Click the Actions menu (three dots) for that service account and select Manage keys.\n",
    "   * Click Add key > Create new key.\n",
    "   * Select JSON as the key type and click Create.\n",
    "   * A JSON file (containing your service account credentials) will be downloaded to your machine. Keep this file secure and never commit it to public repositories.\n",
    "\n",
    "2. Share Your Google Sheet with the Service Account:\n",
    "\n",
    "   * Open the Google Sheet in your browser that you want to access via the API.\n",
    "   * Click the Share button in the top-right corner of the Sheet.\n",
    "   * In the sharing dialog, add the service account’s email address (you can find it in the JSON key file under client_email, or listed on the service account details page in Cloud Console).\n",
    "   * Give it at least Viewer permission if you only need to read the data. \n",
    "   * Click Done.\n",
    "\n",
    "The service account now has access to read your spreadsheet."
   ]
  },
  {
   "cell_type": "code",
   "execution_count": 1,
   "metadata": {},
   "outputs": [],
   "source": [
    "from os.path import join\n",
    "import matplotlib.pyplot as plt\n",
    "import numpy as np\n",
    "import pandas as pd\n",
    "\n",
    "from tfcrig import google_drive as gd\n",
    "\n",
    "sheets = gd.GoogleDrive()\n"
   ]
  },
  {
   "cell_type": "code",
   "execution_count": 2,
   "metadata": {},
   "outputs": [
    {
     "data": {
      "text/html": [
       "<div>\n",
       "<style scoped>\n",
       "    .dataframe tbody tr th:only-of-type {\n",
       "        vertical-align: middle;\n",
       "    }\n",
       "\n",
       "    .dataframe tbody tr th {\n",
       "        vertical-align: top;\n",
       "    }\n",
       "\n",
       "    .dataframe thead th {\n",
       "        text-align: right;\n",
       "    }\n",
       "</style>\n",
       "<table border=\"1\" class=\"dataframe\">\n",
       "  <thead>\n",
       "    <tr style=\"text-align: right;\">\n",
       "      <th></th>\n",
       "      <th>this is a test spreadsheet</th>\n",
       "    </tr>\n",
       "  </thead>\n",
       "  <tbody>\n",
       "    <tr>\n",
       "      <th>0</th>\n",
       "      <td>to test if you can read notebooks with local V...</td>\n",
       "    </tr>\n",
       "    <tr>\n",
       "      <th>1</th>\n",
       "      <td>from google drive</td>\n",
       "    </tr>\n",
       "  </tbody>\n",
       "</table>\n",
       "</div>"
      ],
      "text/plain": [
       "                          this is a test spreadsheet\n",
       "0  to test if you can read notebooks with local V...\n",
       "1                                  from google drive"
      ]
     },
     "execution_count": 2,
     "metadata": {},
     "output_type": "execute_result"
    }
   ],
   "source": [
    "test_sheet_id = \"1peOTRffiTml8gGu4PuVe62_qg5Ju2qftiuPnaXAyAKM\"\n",
    "sheet_data = sheets.get_sheet_as_df(test_sheet_id)\n",
    "sheet_data"
   ]
  }
 ],
 "metadata": {
  "kernelspec": {
   "display_name": "cued-fc",
   "language": "python",
   "name": "python3"
  },
  "language_info": {
   "codemirror_mode": {
    "name": "ipython",
    "version": 3
   },
   "file_extension": ".py",
   "mimetype": "text/x-python",
   "name": "python",
   "nbconvert_exporter": "python",
   "pygments_lexer": "ipython3",
   "version": "3.10.16"
  }
 },
 "nbformat": 4,
 "nbformat_minor": 2
}
